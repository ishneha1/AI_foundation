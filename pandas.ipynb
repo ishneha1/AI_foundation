{
  "nbformat": 4,
  "nbformat_minor": 0,
  "metadata": {
    "colab": {
      "provenance": [],
      "mount_file_id": "1OLk8yV0EvrZjNgKSUt1uNMBTjxV9cMFY",
      "authorship_tag": "ABX9TyMGeOPGSGrjChTU3WFT9+EN",
      "include_colab_link": true
    },
    "kernelspec": {
      "name": "python3",
      "display_name": "Python 3"
    },
    "language_info": {
      "name": "python"
    }
  },
  "cells": [
    {
      "cell_type": "markdown",
      "metadata": {
        "id": "view-in-github",
        "colab_type": "text"
      },
      "source": [
        "<a href=\"https://colab.research.google.com/github/ishneha1/AI_foundation/blob/main/pandas.ipynb\" target=\"_parent\"><img src=\"https://colab.research.google.com/assets/colab-badge.svg\" alt=\"Open In Colab\"/></a>"
      ]
    },
    {
      "cell_type": "markdown",
      "source": [
        "##PANDAS :\n",
        "Data Preprocesing in Machine Learning using Pandas\n",
        "\n",
        "• Data preprocessing is required tasks for cleaning the data and making it suitable for a machine learning model which also increases the accuracy and efficiency of a machine learning model.\n",
        "\n",
        "Pandas is an open source Python package that is most widely used for data science/data analyeis and machine learning tasks. It is built on top of another package named Numpy, which provides support for multi-dimensional arrays. Preprocessing is the process of doing a pre-analysis of deta, in order to transform them into a standard and normalized format.\n",
        "\n",
        "Preprocessing involves the following aspects:\n",
        "\n",
        "- missing values\n",
        "\n",
        "- data standardization\n",
        "\n",
        "- data normalization\n",
        "\n",
        "- data bining\n",
        "\n",
        "Data cleaning:\n",
        "\n",
        "- replacing blank values with certain values\n"
      ],
      "metadata": {
        "id": "Zk9XgMfrJud5"
      }
    },
    {
      "cell_type": "code",
      "source": [
        "import pandas as pd\n"
      ],
      "metadata": {
        "id": "wA92GxxeLPIJ"
      },
      "execution_count": 1,
      "outputs": []
    },
    {
      "cell_type": "code",
      "source": [
        "data={\n",
        "    \"cars\" : [\"bmw\",\"honda\",\"suzuki\",\"byd\"],\n",
        "    \"models\" :[\"2007\",\"2008\",\"2022\",\"2008\"],\n",
        "    \"passen\" : [\"4\",\"5\",\"6\",\"7\"]\n",
        "}\n",
        "print (data)"
      ],
      "metadata": {
        "colab": {
          "base_uri": "https://localhost:8080/"
        },
        "id": "uW3RnfGpLXbJ",
        "outputId": "e23c035a-bb81-486b-de8b-b3279c5dd0a4"
      },
      "execution_count": 6,
      "outputs": [
        {
          "output_type": "stream",
          "name": "stdout",
          "text": [
            "{'cars': ['bmw', 'honda', 'suzuki', 'byd'], 'models': ['2007', '2008', '2022', '2008'], 'passen': ['4', '5', '6', '7']}\n"
          ]
        }
      ]
    },
    {
      "cell_type": "code",
      "source": [
        "#convert this dict into dataframe\n",
        "df=pd.DataFrame(data)\n",
        "print(df)"
      ],
      "metadata": {
        "colab": {
          "base_uri": "https://localhost:8080/"
        },
        "id": "LUKFbnZWL8ld",
        "outputId": "a5a686cb-e06d-44bd-dd95-ec8b146ead44"
      },
      "execution_count": 7,
      "outputs": [
        {
          "output_type": "stream",
          "name": "stdout",
          "text": [
            "     cars models passen\n",
            "0     bmw   2007      4\n",
            "1   honda   2008      5\n",
            "2  suzuki   2022      6\n",
            "3     byd   2008      7\n"
          ]
        }
      ]
    },
    {
      "cell_type": "code",
      "source": [
        "import pandas as pd\n",
        "df=pd.read_csv(\"/pandas_dataset.csv\")\n",
        "print(df)"
      ],
      "metadata": {
        "colab": {
          "base_uri": "https://localhost:8080/"
        },
        "id": "h67ww5VEXy4O",
        "outputId": "e5fca19c-2d86-4ad7-f8c9-f0c08da49202"
      },
      "execution_count": 31,
      "outputs": [
        {
          "output_type": "stream",
          "name": "stdout",
          "text": [
            "    Duration         Date  Pulse  Maxpulse  Calories\n",
            "0         60  2020/12/01'    110       130     409.1\n",
            "1         60  2020/12/02'    117       145     479.0\n",
            "2         60  2020/12/03'    103       135     340.0\n",
            "3         45  2020/12/04'    109       175     282.4\n",
            "4         45  2020/12/05'    117       148     406.0\n",
            "5         60  2020/12/06'    102       127     300.0\n",
            "6         60  2020/12/07'    110       136     374.0\n",
            "7        450  2020/12/08'    104       134     253.3\n",
            "8         30  2020/12/09'    109       133     195.1\n",
            "9         60  2020/12/10'     98       124     269.0\n",
            "10        60  2020/12/11'    103       147     329.3\n",
            "11        60  2020/12/12'    100       120     250.7\n",
            "12        60  2020/12/12'    100       120     250.7\n",
            "13        60  2020/12/13'    106       128     345.3\n",
            "14        60  2020/12/14'    104       132     379.3\n",
            "15        60  2020/12/15'     98       123     275.0\n",
            "16        60  2020/12/16'     98       120     215.2\n",
            "17        60  2020/12/17'    100       120     300.0\n",
            "18        45  2020/12/18'     90       112       NaN\n",
            "19        60  2020/12/19'    103       123     323.0\n",
            "20        45  2020/12/20'     97       125     243.0\n",
            "21        60  2020/12/21'    108       131     364.2\n",
            "22        45          NaN    100       119     282.0\n",
            "23        60  2020/12/23'    130       101     300.0\n",
            "24        45  2020/12/24'    105       132     246.0\n",
            "25        60  2020/12/25'    102       126     334.5\n",
            "26        60   12/26/2020    100       120     250.0\n",
            "27        60  2020/12/27'     92       118     241.0\n",
            "28        60  2020/12/28'    103       132       NaN\n",
            "29        60  2020/12/29'    100       132     280.0\n",
            "30        60  2020/12/30'    102       129     380.3\n",
            "31        60  2020/12/31'     92       115     243.0\n"
          ]
        }
      ]
    },
    {
      "cell_type": "code",
      "source": [
        "print(df.head(10))"
      ],
      "metadata": {
        "colab": {
          "base_uri": "https://localhost:8080/"
        },
        "id": "Emte24bwYDnj",
        "outputId": "b9cb08dc-359e-4d78-9209-b86020706c29"
      },
      "execution_count": 32,
      "outputs": [
        {
          "output_type": "stream",
          "name": "stdout",
          "text": [
            "   Duration         Date  Pulse  Maxpulse  Calories\n",
            "0        60  2020/12/01'    110       130     409.1\n",
            "1        60  2020/12/02'    117       145     479.0\n",
            "2        60  2020/12/03'    103       135     340.0\n",
            "3        45  2020/12/04'    109       175     282.4\n",
            "4        45  2020/12/05'    117       148     406.0\n",
            "5        60  2020/12/06'    102       127     300.0\n",
            "6        60  2020/12/07'    110       136     374.0\n",
            "7       450  2020/12/08'    104       134     253.3\n",
            "8        30  2020/12/09'    109       133     195.1\n",
            "9        60  2020/12/10'     98       124     269.0\n"
          ]
        }
      ]
    },
    {
      "cell_type": "code",
      "source": [
        "print(df.tail(5))"
      ],
      "metadata": {
        "colab": {
          "base_uri": "https://localhost:8080/"
        },
        "id": "eVwT7aFoZ0_S",
        "outputId": "fe706d7f-ca28-40c2-9a44-337cdebca1a4"
      },
      "execution_count": 33,
      "outputs": [
        {
          "output_type": "stream",
          "name": "stdout",
          "text": [
            "    Duration         Date  Pulse  Maxpulse  Calories\n",
            "27        60  2020/12/27'     92       118     241.0\n",
            "28        60  2020/12/28'    103       132       NaN\n",
            "29        60  2020/12/29'    100       132     280.0\n",
            "30        60  2020/12/30'    102       129     380.3\n",
            "31        60  2020/12/31'     92       115     243.0\n"
          ]
        }
      ]
    },
    {
      "cell_type": "markdown",
      "source": [
        "Problems in our dataset\n",
        "\n",
        "- data set contains some empty cells\n",
        "(\"Date\" in row 22 and \"calories\" in row 18 and 28)\n",
        "\n",
        "- data set in wrong format\n",
        "(in row 26 of \"date\")\n",
        "\n",
        "- Dataset contains wrong data\n",
        "(in row 7 of \"duration\")\n",
        "\n",
        "- Dataset conatins duplicate values\n",
        "(in rows 11 and 12)"
      ],
      "metadata": {
        "id": "HOFi1C8FaAWR"
      }
    },
    {
      "cell_type": "code",
      "source": [],
      "metadata": {
        "id": "8xzBGMt5Z4xe"
      },
      "execution_count": null,
      "outputs": []
    }
  ]
}