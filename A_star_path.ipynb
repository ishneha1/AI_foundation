{
  "nbformat": 4,
  "nbformat_minor": 0,
  "metadata": {
    "colab": {
      "provenance": [],
      "authorship_tag": "ABX9TyO+hgDqG3qMyf3cLpfYuBzT",
      "include_colab_link": true
    },
    "kernelspec": {
      "name": "python3",
      "display_name": "Python 3"
    },
    "language_info": {
      "name": "python"
    }
  },
  "cells": [
    {
      "cell_type": "markdown",
      "metadata": {
        "id": "view-in-github",
        "colab_type": "text"
      },
      "source": [
        "<a href=\"https://colab.research.google.com/github/ishneha1/AI_foundation/blob/main/A_star_path.ipynb\" target=\"_parent\"><img src=\"https://colab.research.google.com/assets/colab-badge.svg\" alt=\"Open In Colab\"/></a>"
      ]
    },
    {
      "cell_type": "code",
      "execution_count": 1,
      "metadata": {
        "colab": {
          "base_uri": "https://localhost:8080/"
        },
        "id": "bNvcoqdywJSA",
        "outputId": "1939b93f-07bf-4282-c12d-9a532ed80e2b"
      },
      "outputs": [
        {
          "output_type": "stream",
          "name": "stdout",
          "text": [
            "A* path from A to G: A -> B -> E -> F -> G\n"
          ]
        }
      ],
      "source": [
        "import heapq\n",
        "#priority queue\n",
        "\n",
        "\n",
        "def a_star(graph, heuristic, start, goal):\n",
        "    open_set = [] #for selection of nodes\n",
        "    heapq.heappush(open_set, (heuristic[start], 0, start))  # (f_score, g_score, city)\n",
        "    #heappush : addding in priority queue\n",
        "\n",
        "    parent = {start: None} #paricular node kata bata aako ho bhanera store garnu\n",
        "    g_score = {start: 0} #g(n)\n",
        "\n",
        "    while open_set:\n",
        "        f, current_g, current = heapq.heappop(open_set)\n",
        "        #heappop - f(n) value jasko less cha teslai pop garcha\n",
        "\n",
        "\n",
        "        if current == goal:\n",
        "            # Reconstruct path\n",
        "            path = []\n",
        "            while current:\n",
        "                path.append(current)\n",
        "                current = parent[current]\n",
        "            return path[::-1]\n",
        "\n",
        "        for neighbor, cost in graph.get(current, []):\n",
        "            tentative_g = current_g + cost\n",
        "            if neighbor not in g_score or tentative_g < g_score[neighbor]:\n",
        "                g_score[neighbor] = tentative_g\n",
        "                f_score = tentative_g + heuristic.get(neighbor, float('inf'))\n",
        "                heapq.heappush(open_set, (f_score, tentative_g, neighbor))\n",
        "                parent[neighbor] = current\n",
        "\n",
        "    return None  # No path found\n",
        "\n",
        "city_graph = {\n",
        "    \"A\": [(\"B\", 1), (\"C\", 7)],\n",
        "    \"B\": [(\"A\", 1), (\"D\", 2), (\"E\", 5)],\n",
        "    \"C\": [(\"A\", 7), (\"F\", 3)],\n",
        "    \"D\": [(\"B\", 2)],\n",
        "    \"E\": [(\"B\", 5), (\"F\", 1)],\n",
        "    \"F\": [(\"C\", 3), (\"E\", 1), (\"G\", 2)],\n",
        "    \"G\": [(\"F\", 2)]\n",
        "}\n",
        "\n",
        "heuristic = {\n",
        "    \"A\": 7,\n",
        "    \"B\": 6,\n",
        "    \"C\": 4,\n",
        "    \"D\": 3,\n",
        "    \"E\": 2,\n",
        "    \"F\": 1,\n",
        "    \"G\": 0  # Goal node has 0 heuristic\n",
        "}\n",
        "\n",
        "start_city = \"A\"\n",
        "goal_city = \"G\"\n",
        "\n",
        "path = a_star(city_graph, heuristic, start_city, goal_city)\n",
        "if path:\n",
        "    print(f\"A* path from {start_city} to {goal_city}: {' -> '.join(path)}\")\n",
        "else:\n",
        "    print(\"No path found.\")\n"
      ]
    }
  ]
}