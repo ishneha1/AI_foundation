{
  "nbformat": 4,
  "nbformat_minor": 0,
  "metadata": {
    "colab": {
      "provenance": [],
      "authorship_tag": "ABX9TyP5AO/G8CqEO5L8F/835wqE",
      "include_colab_link": true
    },
    "kernelspec": {
      "name": "python3",
      "display_name": "Python 3"
    },
    "language_info": {
      "name": "python"
    }
  },
  "cells": [
    {
      "cell_type": "markdown",
      "metadata": {
        "id": "view-in-github",
        "colab_type": "text"
      },
      "source": [
        "<a href=\"https://colab.research.google.com/github/ishneha1/AI_foundation/blob/main/BFS.ipynb\" target=\"_parent\"><img src=\"https://colab.research.google.com/assets/colab-badge.svg\" alt=\"Open In Colab\"/></a>"
      ]
    },
    {
      "cell_type": "code",
      "execution_count": null,
      "metadata": {
        "id": "5ejpycz-3eN9"
      },
      "outputs": [],
      "source": [
        "from collections import deque\n",
        "\n",
        "\n",
        "def bfs_path(graph, start, goal):\n",
        "    visited = set()\n",
        "    queue = deque([start])\n",
        "    visited.add(start)\n",
        "    parent = {start: None}  # to reconstruct path\n",
        "\n",
        "    while queue:\n",
        "        current = queue.popleft()\n",
        "\n",
        "        if current == goal:\n",
        "            # Reconstruct path\n",
        "            path = []\n",
        "            while current:\n",
        "                path.append(current)\n",
        "                current = parent[current]\n",
        "            return path[::-1]  # reverse the path\n",
        "\n",
        "        for neighbor in graph.get(current, []):\n",
        "            if neighbor not in visited:\n",
        "                visited.add(neighbor)\n",
        "                parent[neighbor] = current\n",
        "                queue.append(neighbor)\n",
        "\n",
        "    return None  # No path found\n",
        "\n",
        "city_graph = {\n",
        "    \"A\": [\"B\", \"C\"],\n",
        "    \"B\": [\"A\", \"D\", \"E\"],\n",
        "    \"C\": [\"A\", \"F\"],\n",
        "    \"D\": [\"B\"],\n",
        "    \"E\": [\"B\", \"F\"],\n",
        "    \"F\": [\"C\", \"E\", \"G\"],\n",
        "    \"G\": [\"F\"]\n",
        "}\n",
        "\n",
        "start_city = \"A\"\n",
        "end_city = \"G\"\n",
        "\n",
        "path = bfs_path(city_graph, start_city, end_city)\n",
        "\n",
        "if path:\n",
        "    print(f\"Path from {start_city} to {end_city}: {' -> '.join(path)}\")\n",
        "else:\n",
        "    print(f\"No path found from {start_city} to {end_city}.\")\n",
        "\n"
      ]
    }
  ]
}