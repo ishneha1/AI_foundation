{
  "nbformat": 4,
  "nbformat_minor": 0,
  "metadata": {
    "colab": {
      "provenance": [],
      "authorship_tag": "ABX9TyP2qvwCMd8K7L75ySpl2p3P",
      "include_colab_link": true
    },
    "kernelspec": {
      "name": "python3",
      "display_name": "Python 3"
    },
    "language_info": {
      "name": "python"
    }
  },
  "cells": [
    {
      "cell_type": "markdown",
      "metadata": {
        "id": "view-in-github",
        "colab_type": "text"
      },
      "source": [
        "<a href=\"https://colab.research.google.com/github/ishneha1/AI_foundation/blob/main/A_star_8_puzzle.ipynb\" target=\"_parent\"><img src=\"https://colab.research.google.com/assets/colab-badge.svg\" alt=\"Open In Colab\"/></a>"
      ]
    },
    {
      "cell_type": "code",
      "execution_count": 1,
      "metadata": {
        "colab": {
          "base_uri": "https://localhost:8080/"
        },
        "id": "2-aV4i85vz8Z",
        "outputId": "3c726a79-9d0c-4029-d0eb-a6c9b92c2349"
      },
      "outputs": [
        {
          "output_type": "stream",
          "name": "stdout",
          "text": [
            "A* Solution (moves): ['down', 'right', 'up', 'left', 'left', 'down', 'right', 'right', 'up', 'left', 'down', 'left', 'up', 'right', 'up', 'right', 'down', 'down', 'left', 'left', 'up', 'right', 'down', 'right']\n",
            "Steps: 24\n"
          ]
        }
      ],
      "source": [
        "import heapq\n",
        "\n",
        "# Move map: index → possible moves (index changes)\n",
        "MOVE_MAP = {\n",
        "    0: {'right': 1, 'down': 3},\n",
        "    1: {'left': 0, 'right': 2, 'down': 4},\n",
        "    2: {'left': 1, 'down': 5},\n",
        "    3: {'up': 0, 'right': 4, 'down': 6},\n",
        "    4: {'up': 1, 'left': 3, 'right': 5, 'down': 7},\n",
        "    5: {'up': 2, 'left': 4, 'down': 8},\n",
        "    6: {'up': 3, 'right': 7},\n",
        "    7: {'up': 4, 'left': 6, 'right': 8},\n",
        "    8: {'up': 5, 'left': 7}\n",
        "}\n",
        "\n",
        "\n",
        "\n",
        "def manhattan_distance(state, goal):\n",
        "    goal_positions = {value: (idx // 3, idx % 3) for idx, value in enumerate(goal) if value != 0}\n",
        "    distance = 0\n",
        "    for idx, value in enumerate(state):\n",
        "    #enumerate : harek value lai counter/ index halcha\n",
        "        if value == 0:\n",
        "            continue\n",
        "        current_pos = (idx // 3, idx % 3)\n",
        "        goal_pos = goal_positions[value]\n",
        "        distance += abs(current_pos[0] - goal_pos[0]) + abs(current_pos[1] - goal_pos[1])\n",
        "    return distance\n",
        "\n",
        "\n",
        "def a_star(start, goal):\n",
        "    open_set = []\n",
        "    heapq.heappush(open_set, (manhattan_distance(start, goal), 0, start, []))\n",
        "    visited = set()\n",
        "\n",
        "    while open_set:\n",
        "        f, g, current, path = heapq.heappop(open_set)\n",
        "\n",
        "        if current == goal:\n",
        "            return path\n",
        "\n",
        "        if current in visited:\n",
        "            continue\n",
        "        visited.add(current)\n",
        "\n",
        "        index = current.index(0)\n",
        "        for move, swap_with in MOVE_MAP[index].items():\n",
        "            new_state = list(current)\n",
        "            new_state[index], new_state[swap_with] = new_state[swap_with], new_state[index]\n",
        "            new_state_tuple = tuple(new_state)\n",
        "\n",
        "            if new_state_tuple not in visited:\n",
        "                new_path = path + [move]\n",
        "                h = manhattan_distance(new_state_tuple, goal)\n",
        "                heapq.heappush(open_set, (g + 1 + h, g + 1, new_state_tuple, new_path))\n",
        "\n",
        "    return None  # No solution\n",
        "\n",
        "# Example usage:\n",
        "start_state = (1, 2, 3,\n",
        "               4, 0, 5,\n",
        "               6, 7, 8)\n",
        "\n",
        "goal_state = (1, 3, 4,\n",
        "              2, 6, 7,\n",
        "              5, 8, 0)\n",
        "\n",
        "solution_path = a_star(start_state, goal_state)\n",
        "if solution_path:\n",
        "    print(\"A* Solution (moves):\", solution_path)\n",
        "    print(\"Steps:\", len(solution_path))\n",
        "else:\n",
        "    print(\"No solution found.\")\n"
      ]
    }
  ]
}