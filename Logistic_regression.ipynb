{
  "nbformat": 4,
  "nbformat_minor": 0,
  "metadata": {
    "colab": {
      "provenance": [],
      "authorship_tag": "ABX9TyO0GehMQkuGOgWsPPSccWzT",
      "include_colab_link": true
    },
    "kernelspec": {
      "name": "python3",
      "display_name": "Python 3"
    },
    "language_info": {
      "name": "python"
    }
  },
  "cells": [
    {
      "cell_type": "markdown",
      "metadata": {
        "id": "view-in-github",
        "colab_type": "text"
      },
      "source": [
        "<a href=\"https://colab.research.google.com/github/ishneha1/AI_foundation/blob/main/Logistic_regression.ipynb\" target=\"_parent\"><img src=\"https://colab.research.google.com/assets/colab-badge.svg\" alt=\"Open In Colab\"/></a>"
      ]
    },
    {
      "cell_type": "code",
      "execution_count": 1,
      "metadata": {
        "colab": {
          "base_uri": "https://localhost:8080/",
          "height": 494
        },
        "id": "UI-HpaG_wmQb",
        "outputId": "997de581-9659-42ab-ccf5-17e5b32867c3"
      },
      "outputs": [
        {
          "output_type": "stream",
          "name": "stdout",
          "text": [
            "=== Breast Cancer Dataset ===\n",
            "Accuracy: 0.9737\n",
            "Precision: 0.9722\n",
            "Recall: 0.9859\n",
            "F1-Score: 0.9790\n"
          ]
        },
        {
          "output_type": "display_data",
          "data": {
            "text/plain": [
              "<Figure size 600x400 with 2 Axes>"
            ],
            "image/png": "[encoded data removed]"
          },
          "metadata": {}
        }
      ],
      "source": [
        "from sklearn.datasets import load_breast_cancer\n",
        "from sklearn.model_selection import train_test_split\n",
        "from sklearn.linear_model import LogisticRegression\n",
        "from sklearn.preprocessing import StandardScaler\n",
        "from sklearn.metrics import confusion_matrix, accuracy_score, precision_score, recall_score, f1_score\n",
        "import pandas as pd\n",
        "import matplotlib.pyplot as plt\n",
        "import seaborn as sns\n",
        "\n",
        "# Solution 1: Breast Cancer Dataset\n",
        "bc_data = load_breast_cancer()\n",
        "X_bc = pd.DataFrame(bc_data.data, columns=bc_data.feature_names)\n",
        "y_bc = pd.Series(bc_data.target)\n",
        "\n",
        "# Train-test split\n",
        "X_train_bc, X_test_bc, y_train_bc, y_test_bc = train_test_split(\n",
        "    X_bc, y_bc, test_size=0.2, random_state=42\n",
        ")\n",
        "\n",
        "# Feature scaling\n",
        "scaler_bc = StandardScaler()\n",
        "X_train_scaled_bc = scaler_bc.fit_transform(X_train_bc)\n",
        "X_test_scaled_bc = scaler_bc.transform(X_test_bc)\n",
        "\n",
        "# Logistic Regression model\n",
        "model_bc = LogisticRegression(max_iter=10000)\n",
        "model_bc.fit(X_train_scaled_bc, y_train_bc)\n",
        "y_pred_bc = model_bc.predict(X_test_scaled_bc)\n",
        "\n",
        "# Metrics\n",
        "cm = confusion_matrix(y_test_bc, y_pred_bc)\n",
        "acc = accuracy_score(y_test_bc, y_pred_bc)\n",
        "prec = precision_score(y_test_bc, y_pred_bc)\n",
        "rec = recall_score(y_test_bc, y_pred_bc)\n",
        "f1 = f1_score(y_test_bc, y_pred_bc)\n",
        "\n",
        "# Print metrics\n",
        "print(\"=== Breast Cancer Dataset ===\")\n",
        "print(f\"Accuracy: {acc:.4f}\")\n",
        "print(f\"Precision: {prec:.4f}\")\n",
        "print(f\"Recall: {rec:.4f}\")\n",
        "print(f\"F1-Score: {f1:.4f}\")\n",
        "\n",
        "# Confusion Matrix Visualization\n",
        "plt.figure(figsize=(6, 4))\n",
        "sns.heatmap(cm, annot=True, fmt='d', cmap='Blues',\n",
        "            xticklabels=bc_data.target_names,\n",
        "            yticklabels=bc_data.target_names)\n",
        "plt.title('Confusion Matrix - Breast Cancer Dataset')\n",
        "plt.xlabel('Predicted Label')\n",
        "plt.ylabel('True Label')\n",
        "plt.tight_layout()\n",
        "plt.show()\n"
      ]
    },
    {
      "cell_type": "code",
      "source": [
        "import pandas as pd\n",
        "from sklearn.model_selection import train_test_split\n",
        "from sklearn.preprocessing import StandardScaler, LabelEncoder\n",
        "from sklearn.linear_model import LogisticRegression\n",
        "from sklearn.metrics import accuracy_score, confusion_matrix, classification_report\n",
        "import matplotlib.pyplot as plt\n",
        "import seaborn as sns\n",
        "import numpy as np\n",
        "# 1. Load the data\n",
        "df = pd.read_csv(\"/content/sample_data/titanic.csv\")\n",
        "\n",
        "# 2. Drop irrelevant or redundant columns\n",
        "df.drop(columns=['class', 'who', 'adult_male', 'deck', 'embark_town', 'alive', 'alone'], inplace=True, errors='ignore')\n",
        "\n",
        "# 3. Handle missing values\n",
        "df['age'] = df['age'].fillna(df['age'].median())\n",
        "df['embarked'] = df['embarked'].fillna(df['embarked'].mode()[0])\n",
        "\n",
        "# 4. Encode categorical columns\n",
        "label_encoders = {}\n",
        "for col in ['sex', 'embarked']:\n",
        "    le = LabelEncoder()\n",
        "    df[col] = le.fit_transform(df[col])\n",
        "    label_encoders[col] = le\n",
        "\n",
        "# 5. Feature matrix and target\n",
        "X = df.drop('survived', axis=1)\n",
        "y = df['survived']\n",
        "\n",
        "# 6. Split data\n",
        "X_train, X_test, y_train, y_test = train_test_split(X, y, test_size=0.2, random_state=42)\n",
        "\n",
        "# 7. Standardize numerical features\n",
        "scaler = StandardScaler()\n",
        "X_train_scaled = scaler.fit_transform(X_train)\n",
        "X_test_scaled = scaler.transform(X_test)\n",
        "\n",
        "# 8. Train logistic regression model\n",
        "model = LogisticRegression()\n",
        "model.fit(X_train_scaled, y_train)\n",
        "\n",
        "# 9. Predictions and evaluation\n",
        "y_pred = model.predict(X_test_scaled)\n",
        "print(\"Accuracy:\", accuracy_score(y_test, y_pred))\n",
        "print(\"\\nConfusion Matrix:\\n\", confusion_matrix(y_test, y_pred))\n",
        "print(\"\\nClassification Report:\\n\", classification_report(y_test, y_pred))\n",
        "\n"
      ],
      "metadata": {
        "colab": {
          "base_uri": "https://localhost:8080/"
        },
        "id": "MpodsMAwxJLn",
        "outputId": "e601c09d-cfca-44e7-ef34-a6c8c9e0bf66"
      },
      "execution_count": 2,
      "outputs": [
        {
          "output_type": "stream",
          "name": "stdout",
          "text": [
            "Accuracy: 0.8044692737430168\n",
            "\n",
            "Confusion Matrix:\n",
            " [[90 15]\n",
            " [20 54]]\n",
            "\n",
            "Classification Report:\n",
            "               precision    recall  f1-score   support\n",
            "\n",
            "           0       0.82      0.86      0.84       105\n",
            "           1       0.78      0.73      0.76        74\n",
            "\n",
            "    accuracy                           0.80       179\n",
            "   macro avg       0.80      0.79      0.80       179\n",
            "weighted avg       0.80      0.80      0.80       179\n",
            "\n"
          ]
        }
      ]
    }
  ]
}